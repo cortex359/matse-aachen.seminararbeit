{
 "cells": [
  {
   "cell_type": "code",
   "id": "initial_id",
   "metadata": {
    "collapsed": true,
    "ExecuteTime": {
     "end_time": "2025-02-07T16:18:22.151667Z",
     "start_time": "2025-02-07T16:18:22.126391Z"
    }
   },
   "source": [
    "%load_ext autoreload\n",
    "import json\n",
    "import sys\n",
    "import pathlib\n",
    "from matplotlib import pylab as plt\n",
    "import numpy as np\n",
    "import pandas as pd\n",
    "import os\n",
    "import sys\n",
    "import seaborn as sns\n",
    "import random"
   ],
   "outputs": [],
   "execution_count": 1
  },
  {
   "metadata": {
    "ExecuteTime": {
     "end_time": "2025-02-07T16:18:22.166659Z",
     "start_time": "2025-02-07T16:18:22.158702Z"
    }
   },
   "cell_type": "code",
   "source": [
    "question: str = \"Erkläre den Prozess der Photosynthese und beschreibe, welche Rolle er für das Ökosystem spielt.\\n\"\n",
    "\n",
    "answers: list[str] = [\n",
    "    \"Photosynthese bedeutet, dass Pflanzen den ganzen Tag tanzen und Sonnenlicht essen, um Magie zu erzeugen – das hat nichts mit unserem Ökosystem zu tun.\",\n",
    "    \"Photosynthese ist, wenn Pflanzen Sonnenlicht nutzen, um Energie zu produzieren.\",\n",
    "    \"Bei der Photosynthese sollen Pflanzen irgendwie Licht aufnehmen und in Energie umwandeln. Es ist unklar, wie dieser Prozess funktioniert oder warum er wichtig ist.\",\n",
    "    \"Photosynthese ist der Vorgang, bei dem Pflanzen Lichtenergie nutzen, um Wasser und Kohlendioxid in Zucker und Sauerstoff umzuwandeln. Dabei spielt der entstehende Sauerstoff eine Rolle, doch es wird nicht weiter auf die Bedeutung für das gesamte Ökosystem eingegangen.\",\n",
    "    \"Photosynthese bezeichnet den biochemischen Prozess, in dem grüne Pflanzen Lichtenergie in chemische Energie umwandeln, indem sie Kohlendioxid und Wasser in Glukose und Sauerstoff umwandeln. Dieser Prozess liefert den Pflanzen selbst Energie und stellt so die Basis der Nahrungskette dar, auch wenn weitergehende Zusammenhänge nicht erläutert werden.\",\n",
    "    \"Photosynthese ist der Prozess, bei dem grüne Pflanzen, Algen und manche Bakterien Sonnenlicht absorbieren, um Kohlendioxid und Wasser in Glukose (einen Zucker) und Sauerstoff umzuwandeln. Dieser Vorgang liefert nicht nur die Energie für die Pflanze, sondern bildet auch die primäre Energiequelle in Ökosystemen, indem er die Nahrungskette antreibt und den atmosphärischen Sauerstoff erneuert.\",\n",
    "    \"Photosynthese ist ein fundamentaler biochemischer Prozess, bei dem grüne Pflanzen, Algen und bestimmte Bakterien mithilfe von Chlorophyll Sonnenlicht nutzen, um Kohlendioxid und Wasser in Glukose und Sauerstoff umzuwandeln. Diese Umwandlung stellt die Grundlage für die Energieversorgung in fast allen Ökosystemen dar, da sie den Ausgangspunkt der Nahrungsketten bildet und maßgeblich zur Sauerstoffversorgung der Atmosphäre beiträgt.\",\n",
    "    \"Bei der Photosynthese absorbieren Pflanzen, Algen und Cyanobakterien mit Hilfe von Chlorophyll Sonnenlicht, das in chemische Energie umgewandelt wird. In einem zweistufigen Prozess – den lichtabhängigen Reaktionen, bei denen Wasser gespalten und Sauerstoff freigesetzt wird, sowie dem lichtunabhängigen Calvin-Zyklus, in dem Kohlendioxid zu Glukose verarbeitet wird – erzeugen diese Organismen die notwendigen organischen Verbindungen. Dadurch liefern sie nicht nur den eigenen Energiebedarf, sondern bilden auch die Grundlage der Nahrungsketten und tragen zur Aufrechterhaltung eines sauerstoffreichen und kohlendioxidarmen Klimas bei.\",\"Photosynthese ist ein essenzieller biochemischer Prozess, der in den Chloroplasten grüner Pflanzen, Algen und bestimmter Bakterien stattfindet. Mithilfe von Chlorophyll wird in den lichtabhängigen Reaktionen Lichtenergie genutzt, um Wasser (H₂O) zu spalten, wobei Sauerstoff (O₂) freigesetzt wird. Anschließend werden im Calvin-Zyklus Kohlendioxid (CO₂) und die erzeugten Zwischenprodukte zu Glukose umgewandelt. Dieser Prozess liefert den Organismen nicht nur den notwendigen Brennstoff für ihre Lebensprozesse, sondern bildet auch die Basis der Nahrungsketten in nahezu allen terrestrischen und aquatischen Ökosystemen. Gleichzeitig spielt er eine zentrale Rolle bei der Regulierung der atmosphärischen Zusammensetzung, indem er CO₂ bindet und O₂ freisetzt.\",\n",
    "    \"\"\"Photosynthese ist ein fundamentaler biochemischer Prozess, der in den Chloroplasten von grünen Pflanzen, Algen und bestimmten Cyanobakterien abläuft. Dabei wird in zwei wesentlichen Phasen vorgegangen:\n",
    "\n",
    "    Lichtabhängige Reaktionen:\n",
    "    Hier absorbiert das Chlorophyll in den Chloroplasten Sonnenlicht, was zur Spaltung von Wasser (H₂O) führt. Dabei entstehen Elektronen, Protonen und molekularer Sauerstoff (O₂), der in die Atmosphäre abgegeben wird.\n",
    "    Lichtunabhängiger Calvin-Zyklus:\n",
    "    In dieser Phase wird das freigesetzte Kohlendioxid (CO₂) mithilfe der in der ersten Phase gewonnenen Energie fixiert und schrittweise in organische Verbindungen wie Glukose umgewandelt. Diese Glukose dient als primäre Energiequelle und als Ausgangsstoff für den Aufbau weiterer Biomoleküle in der Pflanze.\n",
    "\n",
    "Die Photosynthese ist nicht nur entscheidend für das Überleben der Pflanzen selbst, sondern bildet auch die Grundlage der gesamten Nahrungsketten. Indem sie atmosphärisches Kohlendioxid bindet und Sauerstoff produziert, spielt sie eine zentrale Rolle in der globalen Klimaregulierung und im Erhalt eines lebensfreundlichen Planeten. Dieser Prozess stellt somit einen der wichtigsten biogeochemischen Kreisläufe dar und sichert die Energie- und Stoffversorgung in nahezu allen Ökosystemen.\"\"\"\n",
    "]\n",
    "\n",
    "data: dict[str, str] = {f\"{i}aaa\": f\"{question}\\n{a}\" for i, a in enumerate(answers)}\n",
    "\n",
    "\n",
    "print(data.keys())\n",
    "random_order = list(data.keys())\n",
    "random.shuffle(random_order)\n",
    "print(random_order)"
   ],
   "id": "9488c1a77de413b4",
   "outputs": [
    {
     "name": "stdout",
     "output_type": "stream",
     "text": [
      "dict_keys(['0aaa', '1aaa', '2aaa', '3aaa', '4aaa', '5aaa', '6aaa', '7aaa', '8aaa', '9aaa'])\n",
      "['4aaa', '6aaa', '0aaa', '3aaa', '8aaa', '5aaa', '2aaa', '7aaa', '9aaa', '1aaa']\n"
     ]
    }
   ],
   "execution_count": 2
  },
  {
   "metadata": {
    "ExecuteTime": {
     "end_time": "2025-02-07T16:18:59.127761Z",
     "start_time": "2025-02-07T16:18:57.997887Z"
    }
   },
   "cell_type": "code",
   "source": [
    "%autoreload 2\n",
    "from llm import send_prompt, sort_function\n",
    "\n",
    "def sort_f1(d1, d2):\n",
    "    systemprompt = \"\"\"You are provided with two Notebooks (Notebook A and Notebook B), each containing a question and an answer. Determine which notebook contains the better solutions and output ONLY \"Notebook A\" or \"Notebook B\".\"\"\"\n",
    "    return sort_function(d1, d2, data, systemprompt)\n",
    "\n",
    "sort_f1('3aaa', '1aaa')"
   ],
   "id": "387f65e10a6b9495",
   "outputs": [
    {
     "name": "stdout",
     "output_type": "stream",
     "text": [
      "3aaa > 1aaa\n"
     ]
    },
    {
     "data": {
      "text/plain": [
       "False"
      ]
     },
     "execution_count": 4,
     "metadata": {},
     "output_type": "execute_result"
    }
   ],
   "execution_count": 4
  },
  {
   "metadata": {
    "ExecuteTime": {
     "end_time": "2025-02-07T16:21:25.198819Z",
     "start_time": "2025-02-07T16:19:17.029141Z"
    }
   },
   "cell_type": "code",
   "source": [
    "%autoreload 2\n",
    "from sort import quicksort, heapsort, bubble_sort\n",
    "\n",
    "quicksort_order = quicksort(random_order, sort_f1)\n",
    "print(\"Quicksort:\", quicksort_order)\n",
    "heapsort_order = heapsort(random_order, sort_f1)\n",
    "print(\"Heapsort:\", heapsort_order)\n",
    "bubble_order = bubble_sort(random_order, sort_f1)\n",
    "print(\"Bubblesort:\", bubble_order)"
   ],
   "id": "832190726f6a5f11",
   "outputs": [
    {
     "name": "stdout",
     "output_type": "stream",
     "text": [
      "6aaa > 4aaa\n",
      "0aaa < 6aaa\n",
      "0aaa < 4aaa\n",
      "3aaa < 6aaa\n",
      "3aaa < 4aaa\n",
      "3aaa > 0aaa\n",
      "8aaa > 6aaa\n",
      "5aaa < 8aaa\n",
      "5aaa > 6aaa\n",
      "2aaa < 8aaa\n",
      "2aaa < 5aaa\n",
      "2aaa < 6aaa\n",
      "2aaa < 4aaa\n",
      "2aaa < 3aaa\n",
      "2aaa > 0aaa\n",
      "7aaa > 8aaa\n",
      "9aaa > 7aaa\n",
      "1aaa < 9aaa\n",
      "1aaa < 7aaa\n",
      "1aaa < 8aaa\n",
      "1aaa < 5aaa\n",
      "1aaa < 6aaa\n",
      "1aaa < 4aaa\n",
      "1aaa < 3aaa\n",
      "1aaa > 2aaa\n",
      "Quicksort: ['0aaa', '2aaa', '1aaa', '3aaa', '4aaa', '6aaa', '5aaa', '8aaa', '7aaa', '9aaa']\n",
      "1aaa < 8aaa\n",
      "7aaa > 9aaa\n",
      "7aaa > 3aaa\n",
      "5aaa > 2aaa\n",
      "5aaa > 0aaa\n",
      "7aaa > 8aaa\n",
      "3aaa < 9aaa\n",
      "9aaa > 6aaa\n",
      "7aaa > 5aaa\n",
      "9aaa > 8aaa\n",
      "3aaa < 6aaa\n",
      "6aaa > 4aaa\n",
      "9aaa > 5aaa\n",
      "6aaa < 8aaa\n",
      "8aaa > 1aaa\n",
      "8aaa > 5aaa\n",
      "6aaa > 1aaa\n",
      "3aaa < 4aaa\n",
      "6aaa > 4aaa\n",
      "6aaa > 5aaa\n",
      "4aaa > 1aaa\n",
      "4aaa > 3aaa\n",
      "4aaa < 5aaa\n",
      "0aaa < 2aaa\n",
      "5aaa > 2aaa\n",
      "4aaa > 2aaa\n",
      "3aaa > 1aaa\n",
      "3aaa > 0aaa\n",
      "3aaa > 2aaa\n",
      "0aaa < 1aaa\n",
      "3aaa > 1aaa\n",
      "1aaa > 2aaa\n",
      "1aaa > 0aaa\n",
      "0aaa < 2aaa\n",
      "Heapsort: ['0aaa', '2aaa', '1aaa', '3aaa', '4aaa', '5aaa', '6aaa', '8aaa', '9aaa', '7aaa']\n",
      "6aaa > 4aaa\n",
      "0aaa < 6aaa\n",
      "3aaa < 6aaa\n",
      "8aaa > 6aaa\n",
      "5aaa < 8aaa\n",
      "2aaa < 8aaa\n",
      "7aaa > 8aaa\n",
      "9aaa > 7aaa\n",
      "1aaa < 9aaa\n",
      "0aaa < 4aaa\n",
      "3aaa < 4aaa\n",
      "6aaa > 4aaa\n",
      "5aaa > 6aaa\n",
      "2aaa < 5aaa\n",
      "8aaa > 5aaa\n",
      "7aaa > 8aaa\n",
      "1aaa < 7aaa\n",
      "3aaa > 0aaa\n",
      "4aaa > 3aaa\n",
      "6aaa > 4aaa\n",
      "2aaa < 6aaa\n",
      "5aaa > 6aaa\n",
      "8aaa > 5aaa\n",
      "1aaa < 8aaa\n",
      "3aaa > 0aaa\n",
      "4aaa > 3aaa\n",
      "2aaa < 4aaa\n",
      "6aaa > 4aaa\n",
      "5aaa > 6aaa\n",
      "1aaa < 5aaa\n",
      "3aaa > 0aaa\n",
      "2aaa < 3aaa\n",
      "4aaa > 3aaa\n",
      "6aaa > 4aaa\n",
      "1aaa < 6aaa\n",
      "2aaa > 0aaa\n",
      "3aaa > 2aaa\n",
      "4aaa > 3aaa\n",
      "1aaa < 4aaa\n",
      "2aaa > 0aaa\n",
      "3aaa > 2aaa\n",
      "1aaa < 3aaa\n",
      "2aaa > 0aaa\n",
      "1aaa > 2aaa\n",
      "Bubblesort: ['0aaa', '2aaa', '1aaa', '3aaa', '4aaa', '6aaa', '5aaa', '8aaa', '7aaa', '9aaa']\n"
     ]
    }
   ],
   "execution_count": 5
  },
  {
   "metadata": {
    "ExecuteTime": {
     "end_time": "2025-02-07T16:21:27.631883Z",
     "start_time": "2025-02-07T16:21:27.586703Z"
    }
   },
   "cell_type": "code",
   "source": [
    "df = pd.DataFrame(data.keys(), columns=['id'])\n",
    "df['true_rank'] = df['id'].map(lambda x: list(data.keys()).index(x))\n",
    "df['inital_order'] = df['id'].map(lambda x: random_order.index(x))\n",
    "df['quicksort_rank'] = df['id'].map(lambda x: quicksort_order.index(x))\n",
    "df['heapsort_rank'] = df['id'].map(lambda x: heapsort_order.index(x))\n",
    "df['bubblesort_rank'] = df['id'].map(lambda x: bubble_order.index(x))\n",
    "df.set_index('id', inplace=True)\n",
    "df"
   ],
   "id": "55e00ebc0a89b3e2",
   "outputs": [
    {
     "data": {
      "text/plain": [
       "      true_rank  inital_order  quicksort_rank  heapsort_rank  bubblesort_rank\n",
       "id                                                                           \n",
       "0aaa          0             2               0              0                0\n",
       "1aaa          1             9               2              2                2\n",
       "2aaa          2             6               1              1                1\n",
       "3aaa          3             3               3              3                3\n",
       "4aaa          4             0               4              4                4\n",
       "5aaa          5             5               6              5                6\n",
       "6aaa          6             1               5              6                5\n",
       "7aaa          7             7               8              9                8\n",
       "8aaa          8             4               7              7                7\n",
       "9aaa          9             8               9              8                9"
      ],
      "text/html": [
       "<div>\n",
       "<style scoped>\n",
       "    .dataframe tbody tr th:only-of-type {\n",
       "        vertical-align: middle;\n",
       "    }\n",
       "\n",
       "    .dataframe tbody tr th {\n",
       "        vertical-align: top;\n",
       "    }\n",
       "\n",
       "    .dataframe thead th {\n",
       "        text-align: right;\n",
       "    }\n",
       "</style>\n",
       "<table border=\"1\" class=\"dataframe\">\n",
       "  <thead>\n",
       "    <tr style=\"text-align: right;\">\n",
       "      <th></th>\n",
       "      <th>true_rank</th>\n",
       "      <th>inital_order</th>\n",
       "      <th>quicksort_rank</th>\n",
       "      <th>heapsort_rank</th>\n",
       "      <th>bubblesort_rank</th>\n",
       "    </tr>\n",
       "    <tr>\n",
       "      <th>id</th>\n",
       "      <th></th>\n",
       "      <th></th>\n",
       "      <th></th>\n",
       "      <th></th>\n",
       "      <th></th>\n",
       "    </tr>\n",
       "  </thead>\n",
       "  <tbody>\n",
       "    <tr>\n",
       "      <th>0aaa</th>\n",
       "      <td>0</td>\n",
       "      <td>2</td>\n",
       "      <td>0</td>\n",
       "      <td>0</td>\n",
       "      <td>0</td>\n",
       "    </tr>\n",
       "    <tr>\n",
       "      <th>1aaa</th>\n",
       "      <td>1</td>\n",
       "      <td>9</td>\n",
       "      <td>2</td>\n",
       "      <td>2</td>\n",
       "      <td>2</td>\n",
       "    </tr>\n",
       "    <tr>\n",
       "      <th>2aaa</th>\n",
       "      <td>2</td>\n",
       "      <td>6</td>\n",
       "      <td>1</td>\n",
       "      <td>1</td>\n",
       "      <td>1</td>\n",
       "    </tr>\n",
       "    <tr>\n",
       "      <th>3aaa</th>\n",
       "      <td>3</td>\n",
       "      <td>3</td>\n",
       "      <td>3</td>\n",
       "      <td>3</td>\n",
       "      <td>3</td>\n",
       "    </tr>\n",
       "    <tr>\n",
       "      <th>4aaa</th>\n",
       "      <td>4</td>\n",
       "      <td>0</td>\n",
       "      <td>4</td>\n",
       "      <td>4</td>\n",
       "      <td>4</td>\n",
       "    </tr>\n",
       "    <tr>\n",
       "      <th>5aaa</th>\n",
       "      <td>5</td>\n",
       "      <td>5</td>\n",
       "      <td>6</td>\n",
       "      <td>5</td>\n",
       "      <td>6</td>\n",
       "    </tr>\n",
       "    <tr>\n",
       "      <th>6aaa</th>\n",
       "      <td>6</td>\n",
       "      <td>1</td>\n",
       "      <td>5</td>\n",
       "      <td>6</td>\n",
       "      <td>5</td>\n",
       "    </tr>\n",
       "    <tr>\n",
       "      <th>7aaa</th>\n",
       "      <td>7</td>\n",
       "      <td>7</td>\n",
       "      <td>8</td>\n",
       "      <td>9</td>\n",
       "      <td>8</td>\n",
       "    </tr>\n",
       "    <tr>\n",
       "      <th>8aaa</th>\n",
       "      <td>8</td>\n",
       "      <td>4</td>\n",
       "      <td>7</td>\n",
       "      <td>7</td>\n",
       "      <td>7</td>\n",
       "    </tr>\n",
       "    <tr>\n",
       "      <th>9aaa</th>\n",
       "      <td>9</td>\n",
       "      <td>8</td>\n",
       "      <td>9</td>\n",
       "      <td>8</td>\n",
       "      <td>9</td>\n",
       "    </tr>\n",
       "  </tbody>\n",
       "</table>\n",
       "</div>"
      ]
     },
     "execution_count": 6,
     "metadata": {},
     "output_type": "execute_result"
    }
   ],
   "execution_count": 6
  },
  {
   "metadata": {
    "ExecuteTime": {
     "end_time": "2025-02-07T16:21:29.497894Z",
     "start_time": "2025-02-07T16:21:29.205258Z"
    }
   },
   "cell_type": "code",
   "source": [
    "# sns heatmap\n",
    "sns.heatmap(df.corr(method='kendall'), annot=True)"
   ],
   "id": "7c211ea4367956ea",
   "outputs": [
    {
     "data": {
      "text/plain": [
       "<Axes: >"
      ]
     },
     "execution_count": 7,
     "metadata": {},
     "output_type": "execute_result"
    },
    {
     "data": {
      "text/plain": [
       "<Figure size 640x480 with 2 Axes>"
      ],
      "image/png": "[encoded data removed]"
     },
     "metadata": {},
     "output_type": "display_data"
    }
   ],
   "execution_count": 7
  },
  {
   "metadata": {
    "ExecuteTime": {
     "end_time": "2025-02-07T16:18:22.460819866Z",
     "start_time": "2025-02-07T16:09:57.359118Z"
    }
   },
   "cell_type": "code",
   "source": "heapsort_order",
   "id": "12dfbd6d33f54c1d",
   "outputs": [
    {
     "data": {
      "text/plain": [
       "['7aaa',\n",
       " '1aaa',\n",
       " '2aaa',\n",
       " '9aaa',\n",
       " '5aaa',\n",
       " '0aaa',\n",
       " '3aaa',\n",
       " '8aaa',\n",
       " '4aaa',\n",
       " '6aaa']"
      ]
     },
     "execution_count": 11,
     "metadata": {},
     "output_type": "execute_result"
    }
   ],
   "execution_count": 11
  },
  {
   "metadata": {},
   "cell_type": "code",
   "outputs": [],
   "execution_count": null,
   "source": "",
   "id": "6c75c83c6d014ac0"
  }
 ],
 "metadata": {
  "kernelspec": {
   "display_name": "Python 3",
   "language": "python",
   "name": "python3"
  },
  "language_info": {
   "codemirror_mode": {
    "name": "ipython",
    "version": 2
   },
   "file_extension": ".py",
   "mimetype": "text/x-python",
   "name": "python",
   "nbconvert_exporter": "python",
   "pygments_lexer": "ipython2",
   "version": "2.7.6"
  }
 },
 "nbformat": 4,
 "nbformat_minor": 5
}
