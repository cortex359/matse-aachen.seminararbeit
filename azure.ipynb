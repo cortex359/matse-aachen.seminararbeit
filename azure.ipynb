{
 "cells": [
  {
   "metadata": {
    "ExecuteTime": {
     "end_time": "2025-02-14T13:36:17.387708Z",
     "start_time": "2025-02-14T13:36:17.267260Z"
    }
   },
   "cell_type": "code",
   "source": [
    "%load_ext autoreload\n",
    "import json\n",
    "import sys\n",
    "import pathlib\n",
    "from matplotlib import pylab as plt\n",
    "import numpy as np\n",
    "import pandas as pd\n",
    "import os\n",
    "import sys\n",
    "import seaborn as sns\n",
    "import random\n",
    "from llm import send_prompt, sort_function\n",
    "from sort import quicksort, heapsort\n",
    "\n",
    "cp_data: dict[str, dict] = {}\n",
    "for file in pathlib.Path('data/shared-dataset/corona_pandemie').rglob('*.ipynb'):\n",
    "    with open(file) as f:\n",
    "        cp_data[file.stem.removeprefix('corona_pandemie_')] = json.load(f)\n",
    "\n",
    "cw_data: dict[str, dict] = {}\n",
    "for file in pathlib.Path('data/shared-dataset/corona_warn_app_analyse').rglob('*.ipynb'):\n",
    "    with open(file) as f:\n",
    "        cw_data[file.stem.removeprefix('corona_warn_app_analyse_')] = json.load(f)\n",
    "\n",
    "rp_data: dict[str, dict] = {}\n",
    "for file in pathlib.Path('data/shared-dataset/reproduktionszahl').rglob('*.ipynb'):\n",
    "    with open(file) as f:\n",
    "        rp_data[file.stem.removeprefix('reproduktionszahl_')] = json.load(f)\n",
    "\n",
    "wr_data: dict[str, dict] = {}\n",
    "for file in pathlib.Path('data/shared-dataset/werbeindustrie').rglob('*.ipynb'):\n",
    "    with open(file) as f:\n",
    "        wr_data[file.stem.removeprefix('werbeindustrie_')] = json.load(f)"
   ],
   "id": "9c90f31a61eceacc",
   "outputs": [],
   "execution_count": 1
  },
  {
   "metadata": {
    "ExecuteTime": {
     "end_time": "2025-02-14T13:36:26.558028Z",
     "start_time": "2025-02-14T13:36:26.552138Z"
    }
   },
   "cell_type": "code",
   "source": [
    "from copy import deepcopy\n",
    "\n",
    "def filter_images(data):\n",
    "    \"\"\"Sets the image data to None in the output of code cells.\"\"\"\n",
    "    for k, v in data.items():\n",
    "        for cell in v['cells']:\n",
    "            if cell['cell_type'] == 'code' and 'outputs' in cell:\n",
    "                for output in cell['outputs']:\n",
    "                    if 'data' in output and 'image/png' in output['data']:\n",
    "                        # remove image from data\n",
    "                        output['data']['image/png'] = None\n",
    "\n",
    "filter_images(cp_data)\n",
    "filter_images(cw_data)\n",
    "filter_images(rp_data)\n",
    "filter_images(wr_data)\n",
    "\n",
    "def filter_output_cells(data_array):\n",
    "    \"\"\"Removes the output of code cells.\"\"\"\n",
    "    data = deepcopy(data_array)\n",
    "    for k, v in data.items():\n",
    "        for i, cell in enumerate(v['cells']):\n",
    "            if cell['cell_type'] == 'code' and 'outputs' in cell:\n",
    "                #print(cell['outputs'])\n",
    "                data[k]['cells'][i]['outputs'] = []\n",
    "    return data"
   ],
   "id": "df8c97c3c6e4574a",
   "outputs": [],
   "execution_count": 2
  },
  {
   "metadata": {
    "ExecuteTime": {
     "end_time": "2025-02-14T16:03:23.996443Z",
     "start_time": "2025-02-14T16:03:21.210547Z"
    }
   },
   "cell_type": "code",
   "source": [
    "%autoreload 2\n",
    "from llm import send_prompt, sort_function\n",
    "\n",
    "def sort_f7(d1, d2):\n",
    "    systemprompt = \"\"\"You are provided with two Jupyter notebooks, 'Notebook A' and 'Notebook B,' each containing exercises and their corresponding solutions. Your task is to evaluate which notebook provides the better solutions based on the following criteria: correctness, accuracy, and completeness. A correct solution should provide the intended answer without errors, an accurate solution should be precise and well-reasoned, and a complete solution should contain solutions to all exercises.\n",
    "\n",
    "After evaluating both notebooks, output ONLY one of the following responses: 'Notebook A' or 'Notebook B.' Do not include any additional text—only return the name of the better notebook.\"\"\"\n",
    "\n",
    "    return sort_function(d1, d2, wr_data, systemprompt)\n",
    "\n",
    "check_idxs = list(wr_data.keys())\n",
    "random.shuffle(check_idxs)\n",
    "\n",
    "wr_data_sorted = heapsort(check_idxs, sort_f7)"
   ],
   "id": "2d3a57174425aea3",
   "outputs": [
    {
     "name": "stdout",
     "output_type": "stream",
     "text": [
      "Error in request: 401 { \"statusCode\": 401, \"message\": \"Unauthorized. Access token is missing, invalid, audience is incorrect (https://cognitiveservices.azure.com), or have expired.\" }\n",
      "Retrying... 1\n",
      "Error in request: 401 { \"statusCode\": 401, \"message\": \"Unauthorized. Access token is missing, invalid, audience is incorrect (https://cognitiveservices.azure.com), or have expired.\" }\n",
      "Retrying... 2\n"
     ]
    },
    {
     "ename": "KeyboardInterrupt",
     "evalue": "",
     "output_type": "error",
     "traceback": [
      "\u001B[0;31m---------------------------------------------------------------------------\u001B[0m",
      "\u001B[0;31mKeyboardInterrupt\u001B[0m                         Traceback (most recent call last)",
      "Cell \u001B[0;32mIn[15], line 14\u001B[0m\n\u001B[1;32m     11\u001B[0m check_idxs \u001B[38;5;241m=\u001B[39m \u001B[38;5;28mlist\u001B[39m(wr_data\u001B[38;5;241m.\u001B[39mkeys())\n\u001B[1;32m     12\u001B[0m random\u001B[38;5;241m.\u001B[39mshuffle(check_idxs)\n\u001B[0;32m---> 14\u001B[0m wr_data_sorted \u001B[38;5;241m=\u001B[39m \u001B[43mheapsort\u001B[49m\u001B[43m(\u001B[49m\u001B[43mcheck_idxs\u001B[49m\u001B[43m,\u001B[49m\u001B[43m \u001B[49m\u001B[43msort_f7\u001B[49m\u001B[43m)\u001B[49m\n",
      "File \u001B[0;32m~/Projekte/matse-aachen.seminararbeit/sort.py:18\u001B[0m, in \u001B[0;36mheapsort\u001B[0;34m(arr, cmp)\u001B[0m\n\u001B[1;32m     16\u001B[0m \u001B[38;5;66;03m# Aufbau des Heaps (max-Heap: größtes Element an der Wurzel)\u001B[39;00m\n\u001B[1;32m     17\u001B[0m \u001B[38;5;28;01mfor\u001B[39;00m start \u001B[38;5;129;01min\u001B[39;00m \u001B[38;5;28mrange\u001B[39m(n \u001B[38;5;241m/\u001B[39m\u001B[38;5;241m/\u001B[39m \u001B[38;5;241m2\u001B[39m \u001B[38;5;241m-\u001B[39m \u001B[38;5;241m1\u001B[39m, \u001B[38;5;241m-\u001B[39m\u001B[38;5;241m1\u001B[39m, \u001B[38;5;241m-\u001B[39m\u001B[38;5;241m1\u001B[39m):\n\u001B[0;32m---> 18\u001B[0m     \u001B[43m_sift_down_optimized\u001B[49m\u001B[43m(\u001B[49m\u001B[43ma\u001B[49m\u001B[43m,\u001B[49m\u001B[43m \u001B[49m\u001B[43mstart\u001B[49m\u001B[43m,\u001B[49m\u001B[43m \u001B[49m\u001B[43mn\u001B[49m\u001B[43m,\u001B[49m\u001B[43m \u001B[49m\u001B[43mcmp\u001B[49m\u001B[43m)\u001B[49m\n\u001B[1;32m     19\u001B[0m \u001B[38;5;66;03m# Sortieren: Das größte Element wird wiederholt an das Ende verschoben.\u001B[39;00m\n\u001B[1;32m     20\u001B[0m \u001B[38;5;28;01mfor\u001B[39;00m end \u001B[38;5;129;01min\u001B[39;00m \u001B[38;5;28mrange\u001B[39m(n \u001B[38;5;241m-\u001B[39m \u001B[38;5;241m1\u001B[39m, \u001B[38;5;241m0\u001B[39m, \u001B[38;5;241m-\u001B[39m\u001B[38;5;241m1\u001B[39m):\n",
      "File \u001B[0;32m~/Projekte/matse-aachen.seminararbeit/sort.py:62\u001B[0m, in \u001B[0;36m_sift_down_optimized\u001B[0;34m(a, start, end, cmp)\u001B[0m\n\u001B[1;32m     59\u001B[0m child \u001B[38;5;241m=\u001B[39m \u001B[38;5;241m2\u001B[39m \u001B[38;5;241m*\u001B[39m root \u001B[38;5;241m+\u001B[39m \u001B[38;5;241m1\u001B[39m\n\u001B[1;32m     60\u001B[0m \u001B[38;5;28;01mwhile\u001B[39;00m child \u001B[38;5;241m<\u001B[39m end:\n\u001B[1;32m     61\u001B[0m     \u001B[38;5;66;03m# Wähle das größere Kind:\u001B[39;00m\n\u001B[0;32m---> 62\u001B[0m     \u001B[38;5;28;01mif\u001B[39;00m child \u001B[38;5;241m+\u001B[39m \u001B[38;5;241m1\u001B[39m \u001B[38;5;241m<\u001B[39m end \u001B[38;5;129;01mand\u001B[39;00m \u001B[43mcmp\u001B[49m\u001B[43m(\u001B[49m\u001B[43ma\u001B[49m\u001B[43m[\u001B[49m\u001B[43mchild\u001B[49m\u001B[43m]\u001B[49m\u001B[43m,\u001B[49m\u001B[43m \u001B[49m\u001B[43ma\u001B[49m\u001B[43m[\u001B[49m\u001B[43mchild\u001B[49m\u001B[43m \u001B[49m\u001B[38;5;241;43m+\u001B[39;49m\u001B[43m \u001B[49m\u001B[38;5;241;43m1\u001B[39;49m\u001B[43m]\u001B[49m\u001B[43m)\u001B[49m:\n\u001B[1;32m     63\u001B[0m         child \u001B[38;5;241m+\u001B[39m\u001B[38;5;241m=\u001B[39m \u001B[38;5;241m1\u001B[39m\n\u001B[1;32m     64\u001B[0m     \u001B[38;5;66;03m# Verschiebe das Kind nach oben:\u001B[39;00m\n",
      "Cell \u001B[0;32mIn[15], line 9\u001B[0m, in \u001B[0;36msort_f7\u001B[0;34m(d1, d2)\u001B[0m\n\u001B[1;32m      4\u001B[0m \u001B[38;5;28;01mdef\u001B[39;00m\u001B[38;5;250m \u001B[39m\u001B[38;5;21msort_f7\u001B[39m(d1, d2):\n\u001B[1;32m      5\u001B[0m     systemprompt \u001B[38;5;241m=\u001B[39m \u001B[38;5;124m\"\"\"\u001B[39m\u001B[38;5;124mYou are provided with two Jupyter notebooks, \u001B[39m\u001B[38;5;124m'\u001B[39m\u001B[38;5;124mNotebook A\u001B[39m\u001B[38;5;124m'\u001B[39m\u001B[38;5;124m and \u001B[39m\u001B[38;5;124m'\u001B[39m\u001B[38;5;124mNotebook B,\u001B[39m\u001B[38;5;124m'\u001B[39m\u001B[38;5;124m each containing exercises and their corresponding solutions. Your task is to evaluate which notebook provides the better solutions based on the following criteria: correctness, accuracy, and completeness. A correct solution should provide the intended answer without errors, an accurate solution should be precise and well-reasoned, and a complete solution should contain solutions to all exercises.\u001B[39m\n\u001B[1;32m      6\u001B[0m \n\u001B[1;32m      7\u001B[0m \u001B[38;5;124mAfter evaluating both notebooks, output ONLY one of the following responses: \u001B[39m\u001B[38;5;124m'\u001B[39m\u001B[38;5;124mNotebook A\u001B[39m\u001B[38;5;124m'\u001B[39m\u001B[38;5;124m or \u001B[39m\u001B[38;5;124m'\u001B[39m\u001B[38;5;124mNotebook B.\u001B[39m\u001B[38;5;124m'\u001B[39m\u001B[38;5;124m Do not include any additional text—only return the name of the better notebook.\u001B[39m\u001B[38;5;124m\"\"\"\u001B[39m\n\u001B[0;32m----> 9\u001B[0m     \u001B[38;5;28;01mreturn\u001B[39;00m \u001B[43msort_function\u001B[49m\u001B[43m(\u001B[49m\u001B[43md1\u001B[49m\u001B[43m,\u001B[49m\u001B[43m \u001B[49m\u001B[43md2\u001B[49m\u001B[43m,\u001B[49m\u001B[43m \u001B[49m\u001B[43mwr_data\u001B[49m\u001B[43m,\u001B[49m\u001B[43m \u001B[49m\u001B[43msystemprompt\u001B[49m\u001B[43m)\u001B[49m\n",
      "File \u001B[0;32m~/Projekte/matse-aachen.seminararbeit/llm.py:103\u001B[0m, in \u001B[0;36msort_function\u001B[0;34m(d1, d2, dataset, systemprompt, retry)\u001B[0m\n\u001B[1;32m    101\u001B[0m \u001B[38;5;28mprint\u001B[39m(\u001B[38;5;124mf\u001B[39m\u001B[38;5;124m\"\u001B[39m\u001B[38;5;124mRetrying... \u001B[39m\u001B[38;5;132;01m{\u001B[39;00mwait_time\u001B[38;5;132;01m}\u001B[39;00m\u001B[38;5;124m\"\u001B[39m)\n\u001B[1;32m    102\u001B[0m time\u001B[38;5;241m.\u001B[39msleep(wait_time)\n\u001B[0;32m--> 103\u001B[0m \u001B[38;5;28;01mreturn\u001B[39;00m \u001B[43msort_function\u001B[49m\u001B[43m(\u001B[49m\u001B[43md1\u001B[49m\u001B[43m,\u001B[49m\u001B[43m \u001B[49m\u001B[43md2\u001B[49m\u001B[43m,\u001B[49m\u001B[43m \u001B[49m\u001B[43mdataset\u001B[49m\u001B[43m,\u001B[49m\u001B[43m \u001B[49m\u001B[43msystemprompt\u001B[49m\u001B[43m,\u001B[49m\u001B[43m \u001B[49m\u001B[43mretry\u001B[49m\u001B[38;5;241;43m=\u001B[39;49m\u001B[43mretry\u001B[49m\u001B[38;5;241;43m-\u001B[39;49m\u001B[38;5;241;43m1\u001B[39;49m\u001B[43m)\u001B[49m\n",
      "File \u001B[0;32m~/Projekte/matse-aachen.seminararbeit/llm.py:102\u001B[0m, in \u001B[0;36msort_function\u001B[0;34m(d1, d2, dataset, systemprompt, retry)\u001B[0m\n\u001B[1;32m    100\u001B[0m wait_time \u001B[38;5;241m=\u001B[39m \u001B[38;5;241m2\u001B[39m \u001B[38;5;241m*\u001B[39m\u001B[38;5;241m*\u001B[39m (\u001B[38;5;241m10\u001B[39m\u001B[38;5;241m-\u001B[39mretry)\n\u001B[1;32m    101\u001B[0m \u001B[38;5;28mprint\u001B[39m(\u001B[38;5;124mf\u001B[39m\u001B[38;5;124m\"\u001B[39m\u001B[38;5;124mRetrying... \u001B[39m\u001B[38;5;132;01m{\u001B[39;00mwait_time\u001B[38;5;132;01m}\u001B[39;00m\u001B[38;5;124m\"\u001B[39m)\n\u001B[0;32m--> 102\u001B[0m \u001B[43mtime\u001B[49m\u001B[38;5;241;43m.\u001B[39;49m\u001B[43msleep\u001B[49m\u001B[43m(\u001B[49m\u001B[43mwait_time\u001B[49m\u001B[43m)\u001B[49m\n\u001B[1;32m    103\u001B[0m \u001B[38;5;28;01mreturn\u001B[39;00m sort_function(d1, d2, dataset, systemprompt, retry\u001B[38;5;241m=\u001B[39mretry\u001B[38;5;241m-\u001B[39m\u001B[38;5;241m1\u001B[39m)\n",
      "\u001B[0;31mKeyboardInterrupt\u001B[0m: "
     ]
    }
   ],
   "execution_count": 15
  },
  {
   "metadata": {
    "ExecuteTime": {
     "end_time": "2025-02-14T13:28:12.693983Z",
     "start_time": "2025-02-14T13:28:12.490927Z"
    }
   },
   "cell_type": "code",
   "source": [
    "werbeindustrie_points = pd.read_csv('data/shared-dataset/werbeindustrie_points.csv')\n",
    "\n",
    "df = werbeindustrie_points.loc[:, ['id', 'total_points']]\n",
    "\n",
    "df['inital_order'] = df['id'].map(lambda x: check_idxs.index(x))\n",
    "df['llm-heapsort_rank'] = df['id'].map(lambda x: wr_data_sorted[::1].index(x))\n",
    "df.set_index('id', inplace=True)\n",
    "\n",
    "plt.title(\"Exercise: Werbeindustrie\\nLLM: Llama-3.3-70B-Instruct Heapsort\\nImages filtered\")\n",
    "sns.heatmap(df.corr(method='kendall'), annot=True)\n",
    "plt.show()"
   ],
   "id": "c5930af9268ee716",
   "outputs": [
    {
     "data": {
      "text/plain": [
       "<Figure size 640x480 with 2 Axes>"
      ],
      "image/png": "[encoded data removed]"
     },
     "metadata": {},
     "output_type": "display_data"
    }
   ],
   "execution_count": 17
  },
  {
   "metadata": {
    "ExecuteTime": {
     "end_time": "2025-02-14T13:57:38.607864Z",
     "start_time": "2025-02-14T13:56:51.647621Z"
    }
   },
   "cell_type": "code",
   "source": [
    "import os\n",
    "from azure.ai.inference import ChatCompletionsClient\n",
    "from azure.core.credentials import AzureKeyCredential\n",
    "from azure.ai.inference.models import SystemMessage, UserMessage\n",
    "from dotenv import load_dotenv\n",
    "load_dotenv()\n",
    "\n",
    "endpoint = \"https://ai-jeyx77fjpq7ebdtm7701ai757489384058.services.ai.azure.com/models\" # os.getenv(\"AZURE_INFERENCE_SDK_ENDPOINT)\n",
    "\n",
    "model = ChatCompletionsClient(\n",
    "    endpoint=endpoint,\n",
    "    credential=AzureKeyCredential(os.environ[\"AZUREAI_ENDPOINT_KEY\"]),\n",
    "    model = \"DeepSeek-R1\"\n",
    ")\n",
    "\n",
    "\n",
    "response = model.complete(\n",
    "  messages=[\n",
    "    SystemMessage(content=\"You are a helpful assistant.\"),\n",
    "    UserMessage(content=\"What are 3 things to visit in Seattle?\")\n",
    "  ],\n",
    "    model = \"DeepSeek-R1\",\n",
    "  max_tokens=1000\n",
    ")\n",
    "\n",
    "\n",
    "print(response)"
   ],
   "id": "f236b5675bd9205c",
   "outputs": [
    {
     "name": "stdout",
     "output_type": "stream",
     "text": [
      "{\n",
      "  \"choices\": [\n",
      "    {\n",
      "      \"finish_reason\": \"stop\",\n",
      "      \"index\": 0,\n",
      "      \"message\": {\n",
      "        \"content\": \"<think>\\nOkay, the user is asking for three things to visit in Seattle. Let me start by recalling some of the most popular attractions there. Seattle has a mix of cultural, historical, and natural spots. \\n\\nFirst, the Space Needle comes to mind. It's an iconic structure and offers great views. Then there's Pike Place Market, which is a bustling market with lots of shops and the original Starbucks. Maybe the Chihuly Garden and Glass nearby would be a good third. Wait, but some might prefer something more nature-oriented, like the Museum of Pop Culture or maybe the waterfront.\\n\\nWait, the third spot could be the Chihuly Garden since it's near the Space Needle, or maybe the Seattle Waterfront. Alternatively, the Museum of Flight is another option but maybe less central. Or the Olympic Sculpture Park? The user might appreciate a mix of different types of attractions. Let me confirm the top three that are consistently recommended.\\n\\nPike Place Market is always top. The Space Needle is a must. Then perhaps the Museum of Pop Culture (MoPOP) which is unique and designed by Frank Gehry. Or maybe the Seattle Art Museum. Alternatively, the waterfront with the Great Wheel. \\n\\nAnother angle: for someone visiting, the combination of iconic, cultural, and natural. So Space Needle, Pike Place Market, and then either Chihuly Garden or the waterfront. Let me check online quickly to confirm. [Quick check: yes, Space Needle, Pike Place, and Chihuly Garden are often listed together as they are in the Seattle Center area. The waterfront is also popular but might be a separate day. Alternatively, the Museum of Flight if they have time.]\\n\\nHmm, I think the top three are typically Pike Place Market, Space Needle, and Chihuly Garden and Glass. Let me structure each with a brief description and why it's worth visiting. Also, note that Pike Place has the fish market, the first Starbucks, etc. Space Needle offers views and the rotating glass floor. Chihuly has amazing glass artworks. \\n\\nAlternatively, maybe the third could be the Seattle Waterfront or the Museum of Pop Culture. But sticking to the most common trio. I'll go with those three. Need to present them clearly and concisely.\\n</think>\\n\\nHere are three must-visit attractions in Seattle, offering a mix of iconic landmarks, culture, and vibrant local life:\\n\\n1. **Space Needle**  \\n   *Why visit?* This 605-foot futuristic tower, built for the 1962 World\\u2019s Fair, provides stunning 360\\u00b0 views of the city, Mount Rainier, and Puget Sound. The recent renovation added glass floors and open-air viewing decks for a thrilling experience.\\n\\n2. **Pike Place Market**  \\n   *Why visit?* One of the oldest continuously operating public markets in the U.S., it\\u2019s a sensory delight with fresh seafood, artisan crafts, flower stalls, and the original Starbucks. Don\\u2019t miss the famous fish-throwing tradition at Pike Place Fish Market!\\n\\n3. **Chihuly Garden and Glass**  \\n   *Why visit?* Adjacent to the Space Needle, this exhibit showcases the mesmerizing blown-glass artworks of Dale Chihuly. The vibrant indoor galleries and outdoor garden installations blend art with nature, creating a surreal visual experience.\\n\\nFor a bonus, explore the **Seattle Waterfront** (Great Wheel, ferry rides) or the **Museum of Pop Culture (MoPOP)** if you love music and sci-fi! \\ud83c\\udf06\",\n",
      "        \"reasoning_content\": null,\n",
      "        \"role\": \"assistant\",\n",
      "        \"tool_calls\": null\n",
      "      }\n",
      "    }\n",
      "  ],\n",
      "  \"created\": 1739541458,\n",
      "  \"id\": \"7a60c4d61bc246d7a8fd628561d03290\",\n",
      "  \"model\": \"DeepSeek-R1\",\n",
      "  \"object\": \"chat.completion\",\n",
      "  \"usage\": {\n",
      "    \"completion_tokens\": 728,\n",
      "    \"prompt_tokens\": 19,\n",
      "    \"prompt_tokens_details\": null,\n",
      "    \"total_tokens\": 747\n",
      "  }\n",
      "}\n"
     ]
    }
   ],
   "execution_count": 13
  },
  {
   "metadata": {
    "ExecuteTime": {
     "end_time": "2025-02-14T16:21:36.896457Z",
     "start_time": "2025-02-14T16:21:36.877514Z"
    }
   },
   "cell_type": "code",
   "source": [
    "import os\n",
    "from azure.ai.inference import ChatCompletionsClient\n",
    "from azure.core.credentials import AzureKeyCredential\n",
    "from azure.core.exceptions import HttpResponseError\n",
    "from azure.ai.inference.models import SystemMessage, UserMessage\n",
    "\n",
    "from dotenv import load_dotenv\n",
    "import time\n",
    "load_dotenv()\n",
    "\n",
    "endpoint = \"https://ai-jeyx77fjpq7ebdtm7701ai757489384058.services.ai.azure.com/models\" # os.getenv(\"AZURE_INFERENCE_SDK_ENDPOINT)\n",
    "\n",
    "def send_prompt(nb1: str, nb2: str, systemprompt: str = None, max_retries: int = 10) -> dict:\n",
    "    if not systemprompt:\n",
    "        systemprompt = \"\"\"You are provided with two Jupyter notebooks (Notebook A and Notebook B), each containing exercises with their solutions. Evaluate only the correctness and accuracy of the solutions—ignore code style, formatting, documentation, or any other factors. Determine which notebook contains more correct solutions and output ONLY \"Notebook A\" or \"Notebook B\".\"\"\"\n",
    "\n",
    "    data = {\n",
    "        \"model\": \"DeepSeek-R1\",  # \"Llama-3.3-70B-Instruct\"\n",
    "        \"messages\": [\n",
    "            SystemMessage(content=systemprompt),\n",
    "            UserMessage(content=f\"Notebook A: {nb1}\\n\\n\\nNotebook B: {nb2}\")\n",
    "        ],\n",
    "        \"max_tokens\": 4096,\n",
    "        \"temperature\": 0.1,\n",
    "    }\n",
    "\n",
    "    model = ChatCompletionsClient(\n",
    "        endpoint=endpoint,\n",
    "        credential=AzureKeyCredential(os.environ[\"AZUREAI_ENDPOINT_KEY\"]),\n",
    "        model = \"DeepSeek-R1\"\n",
    "    )\n",
    "\n",
    "    for attempt in range(1, max_retries + 1):\n",
    "        try:\n",
    "            response = model.complete(\n",
    "                messages=data[\"messages\"],\n",
    "                model = data[\"model\"],\n",
    "                max_tokens=data[\"max_tokens\"],\n",
    "                temperature=data[\"temperature\"]\n",
    "            )\n",
    "        except HttpResponseError as e:\n",
    "            print(f\"Request failed: {e}. Retrying in {2 ** attempt} seconds... (Attempt {attempt}/{max_retries})\")\n",
    "            time.sleep(2 ** attempt)\n",
    "            continue\n",
    "\n",
    "        print(f\"{response['usage']['prompt_tokens']} + {response['usage']['completion_tokens']}\")\n",
    "        if response and response['choices'][0]['finish_reason'] == 'stop':\n",
    "            return response\n",
    "\n",
    "    print(\"Max retries exceeded due to rate limiting.\")\n",
    "    return None"
   ],
   "id": "e76ed269a10c56a2",
   "outputs": [],
   "execution_count": 43
  },
  {
   "metadata": {
    "ExecuteTime": {
     "end_time": "2025-02-14T16:19:40.354080Z",
     "start_time": "2025-02-14T16:18:32.369443Z"
    }
   },
   "cell_type": "code",
   "source": "send_prompt('2aaa', '1aaa')",
   "id": "65bc1ba4a372398e",
   "outputs": [
    {
     "data": {
      "text/plain": [
       "{'choices': [{'finish_reason': 'stop', 'index': 0, 'message': {'content': '<think>\\nOkay, let\\'s tackle this problem. The user provided two notebooks, A and B, each with some exercises and solutions. My job is to evaluate which notebook has more correct solutions based solely on correctness and accuracy. I need to ignore code style, formatting, documentation, etc.\\n\\nFirst, I need to look at the content of each notebook. But wait, the user\\'s input shows \"Notebook A: 2aaa\" and \"Notebook B: 1aaa\". Hmm, that\\'s a bit confusing. The \"aaa\" part might be a placeholder or a typo. Maybe they meant to indicate the number of correct answers? Like, Notebook A has 2 correct answers and Notebook B has 1? But the user mentioned that each notebook contains exercises with their solutions, so perhaps \"2aaa\" and \"1aaa\" are shorthand for the number of correct solutions. For example, \"2 correct\" and \"1 correct\".\\n\\nAlternatively, maybe \"aaa\" is part of a code or identifier for the exercises. But without more context, it\\'s hard to tell. The key point is that the user wants me to compare the number of correct solutions between the two notebooks. If Notebook A has 2 correct and Notebook B has 1, then Notebook A would be the answer. But I need to make sure I\\'m interpreting the input correctly.\\n\\nWait, the user\\'s instruction says that each notebook has exercises with solutions. The way they wrote it is \"Notebook A: 2aaa\" and \"Notebook B: 1aaa\". Maybe \"2aaa\" means two correct answers (the \\'aaa\\' could be a typo or a code), and \"1aaa\" means one correct. If that\\'s the case, then Notebook A has more correct solutions. But I need to be careful here. The user might have made a mistake in formatting, but given the information, I have to go with what\\'s provided.\\n\\nAlternatively, maybe \"aaa\" is part of a code where each \\'a\\' represents a correct answer. For example, \"2aaa\" could mean two correct (since there are two \\'a\\'s?), but that\\'s speculative. However, the numbers 2 and 1 are more straightforward. If Notebook A has 2 correct solutions and Notebook B has 1, then the answer is Notebook A.\\n\\nSince the user\\'s examples are minimal, I have to assume that the numbers before \"aaa\" indicate the count of correct solutions. Therefore, Notebook A with 2 correct solutions would be better than Notebook B with 1. So the answer should be \"Notebook A\".\\n</think>\\n\\nNotebook A', 'reasoning_content': None, 'role': 'assistant', 'tool_calls': None}}], 'created': 1739549980, 'id': '0eed89fe9a204ada98c2380e6c30f714', 'model': 'DeepSeek-R1', 'object': 'chat.completion', 'usage': {'completion_tokens': 538, 'prompt_tokens': 85, 'prompt_tokens_details': None, 'total_tokens': 623}}"
      ]
     },
     "execution_count": 41,
     "metadata": {},
     "output_type": "execute_result"
    }
   ],
   "execution_count": 41
  },
  {
   "metadata": {
    "ExecuteTime": {
     "end_time": "2025-02-14T16:21:43.847479Z",
     "start_time": "2025-02-14T16:21:43.830772Z"
    }
   },
   "cell_type": "code",
   "source": [
    "def sort_function(d1, d2, dataset: dict, systemprompt: str, retry=10) -> bool:\n",
    "    if retry == 0:\n",
    "        print(\"Maximale Anzahl an Versuchen erreicht.\")\n",
    "        return False\n",
    "    response = send_prompt(str(dataset[d1]), str(dataset[d2]), systemprompt)\n",
    "    if response:\n",
    "        if \"choices\" in response and len(response[\"choices\"]) > 0:\n",
    "            msg = response[\"choices\"][0][\"message\"][\"content\"].strip()\n",
    "            print(msg)\n",
    "            if msg.endswith(\"Notebook A\"):\n",
    "                print(f\"{d1} > {d2}\")\n",
    "                return False\n",
    "            elif msg.endswith(\"Notebook B\"):\n",
    "                print(f\"{d1} < {d2}\")\n",
    "                return True\n",
    "            else:\n",
    "                # Implement a retry mechanism here\n",
    "                if retry > 1:\n",
    "                    print(f\"Antwort nicht eindeutig: {msg}. Retrying... {retry-1}\")\n",
    "                    return sort_function(d1, d2, dataset, systemprompt, retry=retry-1)\n",
    "                else:\n",
    "                    print(f\"{d1} == {d2}\")\n",
    "                    return False\n",
    "        else:\n",
    "            print(\"Unerwartetes Antwortformat:\", response)\n",
    "\n",
    "    wait_time = 2 ** (10-retry)\n",
    "    print(f\"Retrying... {wait_time}\")\n",
    "    time.sleep(wait_time)\n",
    "    return sort_function(d1, d2, dataset, systemprompt, retry=retry-1)\n",
    "\n",
    "def sort_f8(d1, d2):\n",
    "    systemprompt = \"\"\"You are provided with two Jupyter notebooks, 'Notebook A' and 'Notebook B,' each containing exercises and their corresponding solutions. Your task is to evaluate which notebook provides the better solutions based on the following criteria: correctness, accuracy, and completeness. A correct solution should provide the intended answer without errors, an accurate solution should be precise and well-reasoned, and a complete solution should contain solutions to all exercises.\n",
    "\n",
    "After evaluating both notebooks, output ONLY one of the following responses: 'Notebook A' or 'Notebook B.' Do not include any additional text—only return the name of the better notebook.\"\"\"\n",
    "\n",
    "    return sort_function(d1, d2, wr_data, systemprompt)\n",
    "\n",
    "check_idxs = list(wr_data.keys())\n",
    "random.shuffle(check_idxs)"
   ],
   "id": "2c9a15c9dc1616db",
   "outputs": [],
   "execution_count": 44
  },
  {
   "metadata": {
    "jupyter": {
     "is_executing": true
    },
    "ExecuteTime": {
     "start_time": "2025-02-14T16:21:46.635204Z"
    }
   },
   "cell_type": "code",
   "source": "wr_data_sorted = heapsort(check_idxs, sort_f8)",
   "id": "30a121cfde9a564d",
   "outputs": [
    {
     "name": "stdout",
     "output_type": "stream",
     "text": [
      "2287 + 320\n",
      "<think>\n",
      "Okay, let's compare Notebook A and Notebook B based on the criteria given: correctness, accuracy, and completeness.\n",
      "\n",
      "Starting with **Question 1**, both notebooks provide answers. Notebook A's answer raises two points: the need for data centering and scaling before PCA, and the efficiency of PCA implementation given the high number of data points. These are valid technical points. Notebook B's answer mentions that the center is vague and clusters are more pronounced at the edges. However, this seems more like an observation of the MDS plot rather than a critique of the analysis steps. The question asks for aspects to question in the Data Scientist's approach, so Notebook A's points are more relevant and correct here.\n",
      "\n",
      "For **Question 2**, Notebook A suggests hierarchical clustering, explaining that it allows specifying cluster proximity via dendrogram cutting and contrasts it with k-means where the number of clusters must be known. This is accurate and complete. Notebook B recommends kNN, which is actually a classification algorithm, not a clustering method. The justification mentions compact clusters and absence of hierarchy, but kNN isn't a clustering technique. This is incorrect. Additionally, the reasoning about hierarchical structure might be off since the MDS plot's 2D representation doesn't necessarily reflect the actual data structure in higher dimensions. \n",
      "\n",
      "**Completeness**: Both answer all parts, but Notebook B's answer for Q2 is fundamentally wrong in suggesting kNN, which affects correctness and accuracy. Notebook A's answers are correct, accurate, and complete. Therefore, Notebook A is better.\n",
      "</think>\n",
      "\n",
      "Notebook A\n",
      "baa4 > c938\n",
      "2261 + 380\n",
      "<think>\n",
      "Okay, let's compare Notebook A and Notebook B based on the given criteria: correctness, accuracy, and completeness.\n",
      "\n",
      "Starting with **Question 1**, Notebook A provides two solid points. They mention the importance of data centering and standardization for PCA, which is a valid concern because PCA requires centered data. Also, they question the PCA implementation given the high number of data points versus features, suggesting using the covariance matrix approach (1/N X X^T), which is correct. These points are accurate and relevant.\n",
      "\n",
      "Notebook B, on the other hand, has an empty answer for Question 1. The green answer box is there but no content. That's a big issue because it's incomplete. So Notebook B fails here.\n",
      "\n",
      "For **Question 2**, both suggest hierarchical clustering. Notebook A's answer explains why hierarchical is suitable, mentioning spatial proximity and the ability to set a dissimilarity threshold via dendrogram. They contrast with K-Means, noting the need to predefine cluster numbers, which is a good point. The reasoning is thorough and accurate.\n",
      "\n",
      "Notebook B also recommends hierarchical clustering but adds uncertainty about the linkage method without more data. The justification is weaker. They mention hierarchical allows subgroups and differences from K-Means, but the explanation is less detailed. The part about cluster size being less relevant might not be entirely accurate, as linkage methods do affect cluster size and structure. So Notebook A's answer here is more accurate and complete.\n",
      "\n",
      "**Completeness**: Notebook A answers all parts, while Notebook B misses Question 1 entirely. That's a major flaw for Notebook B. Even if other answers were good, missing a whole question makes it incomplete.\n",
      "\n",
      "So overall, Notebook A is correct in its points, accurate in reasoning, and complete. Notebook B is incomplete and less accurate in its explanations. Therefore, Notebook A is better.\n",
      "</think>\n",
      "\n",
      "Notebook A\n",
      "baa4 > cb76\n"
     ]
    }
   ],
   "execution_count": null
  },
  {
   "metadata": {},
   "cell_type": "code",
   "outputs": [],
   "execution_count": null,
   "source": "",
   "id": "d727c38cf162b864"
  }
 ],
 "metadata": {
  "kernelspec": {
   "display_name": "Python 3",
   "language": "python",
   "name": "python3"
  },
  "language_info": {
   "codemirror_mode": {
    "name": "ipython",
    "version": 2
   },
   "file_extension": ".py",
   "mimetype": "text/x-python",
   "name": "python",
   "nbconvert_exporter": "python",
   "pygments_lexer": "ipython2",
   "version": "2.7.6"
  }
 },
 "nbformat": 4,
 "nbformat_minor": 5
}
