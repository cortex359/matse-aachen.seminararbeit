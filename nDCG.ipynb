{
 "cells": [
  {
   "cell_type": "markdown",
   "metadata": {},
   "source": [
    "## nDCG"
   ]
  },
  {
   "cell_type": "code",
   "execution_count": null,
   "metadata": {},
   "outputs": [
    {
     "data": {
      "text/html": [
       "<div>\n",
       "<style scoped>\n",
       "    .dataframe tbody tr th:only-of-type {\n",
       "        vertical-align: middle;\n",
       "    }\n",
       "\n",
       "    .dataframe tbody tr th {\n",
       "        vertical-align: top;\n",
       "    }\n",
       "\n",
       "    .dataframe thead th {\n",
       "        text-align: right;\n",
       "    }\n",
       "</style>\n",
       "<table border=\"1\" class=\"dataframe\">\n",
       "  <thead>\n",
       "    <tr style=\"text-align: right;\">\n",
       "      <th></th>\n",
       "      <th>total_points</th>\n",
       "      <th>llm-heapsort_rank</th>\n",
       "    </tr>\n",
       "  </thead>\n",
       "  <tbody>\n",
       "    <tr>\n",
       "      <th>0</th>\n",
       "      <td>3</td>\n",
       "      <td>1</td>\n",
       "    </tr>\n",
       "    <tr>\n",
       "      <th>1</th>\n",
       "      <td>2</td>\n",
       "      <td>2</td>\n",
       "    </tr>\n",
       "    <tr>\n",
       "      <th>2</th>\n",
       "      <td>3</td>\n",
       "      <td>3</td>\n",
       "    </tr>\n",
       "    <tr>\n",
       "      <th>3</th>\n",
       "      <td>0</td>\n",
       "      <td>4</td>\n",
       "    </tr>\n",
       "    <tr>\n",
       "      <th>4</th>\n",
       "      <td>1</td>\n",
       "      <td>5</td>\n",
       "    </tr>\n",
       "    <tr>\n",
       "      <th>5</th>\n",
       "      <td>2</td>\n",
       "      <td>6</td>\n",
       "    </tr>\n",
       "  </tbody>\n",
       "</table>\n",
       "</div>"
      ],
      "text/plain": [
       "   total_points  llm-heapsort_rank\n",
       "0             3                  1\n",
       "1             2                  2\n",
       "2             3                  3\n",
       "3             0                  4\n",
       "4             1                  5\n",
       "5             2                  6"
      ]
     },
     "metadata": {},
     "output_type": "display_data"
    }
   ],
   "source": [
    "test_df = pd.DataFrame({'total_points': [3, 2, 3, 0, 1, 2], 'llm-heapsort_rank': [1, 2, 3, 4, 5, 6]})\n",
    "test_df"
   ]
  },
  {
   "cell_type": "code",
   "execution_count": null,
   "metadata": {},
   "outputs": [
    {
     "name": "stdout",
     "output_type": "stream",
     "text": [
      "DCG: 102.9770403454842\n",
      "IDCG: 2450393.6716409237\n",
      "nDCG: 4.202469241463756e-05\n"
     ]
    }
   ],
   "source": [
    "def nDCG(df: pd.DataFrame):\n",
    "    \"\"\"\n",
    "    Computes the normalized discounted cumulative gain (nDCG)\n",
    "    for a DataFrame that contains the columns 'total_points' (ground truth relevance)\n",
    "    and 'llm-heapsort_rank' (predicted score).\n",
    "    \n",
    "    Parameters:\n",
    "        df (pd.DataFrame): DataFrame with 'total_points' and 'llm-heapsort_rank' columns.\n",
    "        \n",
    "    Returns:\n",
    "        float: The nDCG value.\n",
    "    \"\"\"\n",
    "    # --- Compute DCG using the predicted order ---\n",
    "    # Sort by predicted scores in descending order.\n",
    "    df_pred = df.sort_values('llm-heapsort_rank', ascending=True).reset_index(drop=True)\n",
    "    # Create a numpy array of positions (0-indexed) and compute the discount factors.\n",
    "    positions = np.arange(len(df_pred))\n",
    "    discounts = np.log2(positions + 2)  # since log2(1+position) with positions starting at 1\n",
    "    \n",
    "    gains = df_pred['total_points']\n",
    "    dcg = np.sum(gains / discounts)\n",
    "    \n",
    "    # --- Compute Ideal DCG (IDCG) using the ideal (true relevance) order ---\n",
    "    df_ideal = df.sort_values('total_points', ascending=True).reset_index(drop=True)\n",
    "    positions = np.arange(len(df_ideal))\n",
    "    discounts = np.log2(positions + 2)\n",
    "    gains = 2 ** df_ideal['total_points'] - 1\n",
    "    idcg = np.sum(gains / discounts)\n",
    "    \n",
    "    # Avoid division by zero if idcg is 0.\n",
    "    if idcg == 0:\n",
    "        return 0.0\n",
    "    \n",
    "    print(f\"DCG: {dcg}\\nIDCG: {idcg}\")\n",
    "    return dcg / idcg\n",
    "\n",
    "print(f\"nDCG: {nDCG(df)}\")"
   ]
  },
  {
   "cell_type": "code",
   "execution_count": null,
   "metadata": {},
   "outputs": [
    {
     "name": "stdout",
     "output_type": "stream",
     "text": [
      "actual_dcg=np.float64(6.861126688593502), ideal_dcg=np.float64(7.1409951840957)\n"
     ]
    },
    {
     "data": {
      "text/plain": [
       "np.float64(0.9608081943360617)"
      ]
     },
     "metadata": {},
     "output_type": "display_data"
    }
   ],
   "source": [
    "def normalized_dcg(df, relevance_col='relevance'):\n",
    "    \"\"\"\n",
    "    Computes the Normalized Discounted Cumulative Gain (NDCG) for a given ranking.\n",
    "    \n",
    "    The DataFrame is assumed to have one column containing the relevance scores \n",
    "    (by default, this column is named 'relevance'). The order of the rows in the DataFrame \n",
    "    should reflect the ranking order you wish to evaluate.\n",
    "    \n",
    "    Parameters:\n",
    "        df (pd.DataFrame): DataFrame containing at least the relevance scores.\n",
    "        relevance_col (str): The name of the column with the relevance scores.\n",
    "                             Defaults to 'relevance'.\n",
    "    \n",
    "    Returns:\n",
    "        float: The normalized discounted cumulative gain.\n",
    "    \"\"\"\n",
    "    def dcg(scores):\n",
    "        # Convert scores to a NumPy array\n",
    "        scores = np.asarray(scores)\n",
    "        # Create an array of discount factors: log2(1 + rank) where rank starts at 1.\n",
    "        discounts = np.log2(np.arange(2, scores.size + 2))\n",
    "        # Compute DCG using the formula: sum((2^score - 1) / discount)\n",
    "        return np.sum((2 ** scores - 1) / discounts)\n",
    "    \n",
    "    # Compute the DCG for the current ranking (order of the DataFrame)\n",
    "    actual_dcg = dcg(df[relevance_col])\n",
    "    \n",
    "    # Compute the ideal DCG (IDCG) by sorting the relevance scores in descending order\n",
    "    ideal_dcg = dcg(df[relevance_col].sort_values(ascending=False))\n",
    "    \n",
    "    # Return normalized DCG; avoid division by zero.\n",
    "    print(f\"{actual_dcg=}, {ideal_dcg=}\")\n",
    "    return actual_dcg / ideal_dcg if ideal_dcg > 0 else 0.0\n",
    "\n",
    "normalized_dcg(test_df, 'total_points')"
   ]
  }
 ],
 "metadata": {
  "language_info": {
   "name": "python"
  }
 },
 "nbformat": 4,
 "nbformat_minor": 2
}
