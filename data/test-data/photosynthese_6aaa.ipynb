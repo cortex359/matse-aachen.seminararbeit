{
 "cells": [
  {
   "metadata": {},
   "cell_type": "markdown",
   "source": "### Aufgabe: Photosynthese",
  },
  {
   "metadata": {},
   "cell_type": "markdown",
   "source": [
    "**Ihre Aufgaben**\n",
    "\n",
    "(1) Erklären Sie den Prozess der Photosynthese und beschreibe, welche Rolle er für das Ökosystem spielt."
   ],
  },
  {
   "metadata": {},
   "cell_type": "markdown",
   "source": "Photosynthese ist ein fundamentaler biochemischer Prozess, bei dem grüne Pflanzen, Algen und bestimmte Bakterien mithilfe von Chlorophyll Sonnenlicht nutzen, um Kohlendioxid und Wasser in Glukose und Sauerstoff umzuwandeln. Diese Umwandlung stellt die Grundlage für die Energieversorgung in fast allen Ökosystemen dar, da sie den Ausgangspunkt der Nahrungsketten bildet und maßgeblich zur Sauerstoffversorgung der Atmosphäre beiträgt.",
  }
 ],
 "metadata": {
  "kernelspec": {
   "display_name": "Python 3",
   "language": "python",
   "name": "python3"
  },
  "language_info": {
   "codemirror_mode": {
    "name": "ipython",
    "version": 2
   },
   "file_extension": ".py",
   "mimetype": "text/x-python",
   "name": "python",
   "nbconvert_exporter": "python",
   "pygments_lexer": "ipython2",
   "version": "2.7.6"
  }
 },
 "nbformat": 4,
 "nbformat_minor": 5
}
