{
 "cells": [
  {
   "cell_type": "markdown",
   "metadata": {},
   "source": [
    "### Aufgabe: Photosynthese"
   ]
  },
  {
   "cell_type": "markdown",
   "metadata": {},
   "source": [
    "**Ihre Aufgaben**\n",
    "\n",
    "(1) Erklären Sie den Prozess der Photosynthese und beschreibe, welche Rolle er für das Ökosystem spielt."
   ]
  },
  {
   "cell_type": "markdown",
   "metadata": {},
   "source": [
    "Photosynthese ist der Prozess, bei dem grüne Pflanzen, Algen und manche Bakterien Sonnenlicht absorbieren, um Kohlendioxid und Wasser in Glukose (einen Zucker) und Sauerstoff umzuwandeln. Dieser Vorgang liefert nicht nur die Energie für die Pflanze, sondern bildet auch die primäre Energiequelle in Ökosystemen, indem er die Nahrungskette antreibt und den atmosphärischen Sauerstoff erneuert."
   ]
  }
 ],
 "metadata": {
  "language_info": {
   "name": "python"
  }
 },
 "nbformat": 4,
 "nbformat_minor": 2
}
