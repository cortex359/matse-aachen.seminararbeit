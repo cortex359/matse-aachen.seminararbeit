{
 "cells": [
  {
   "cell_type": "markdown",
   "metadata": {},
   "source": [
    "### Aufgabe: Photosynthese"
   ]
  },
  {
   "cell_type": "markdown",
   "metadata": {},
   "source": [
    "**Ihre Aufgaben**\n",
    "\n",
    "(1) Erklären Sie den Prozess der Photosynthese und beschreibe, welche Rolle er für das Ökosystem spielt."
   ]
  },
  {
   "cell_type": "markdown",
   "metadata": {},
   "source": [
    "Photosynthese bezeichnet den biochemischen Prozess, in dem grüne Pflanzen Lichtenergie in chemische Energie umwandeln, indem sie Kohlendioxid und Wasser in Glukose und Sauerstoff umwandeln. Dieser Prozess liefert den Pflanzen selbst Energie und stellt so die Basis der Nahrungskette dar."
   ]
  }
 ],
 "metadata": {
  "language_info": {
   "name": "python"
  }
 },
 "nbformat": 4,
 "nbformat_minor": 2
}
