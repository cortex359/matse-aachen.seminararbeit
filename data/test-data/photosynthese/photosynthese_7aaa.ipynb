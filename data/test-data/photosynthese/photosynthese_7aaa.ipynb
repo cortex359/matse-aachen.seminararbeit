{
 "cells": [
  {
   "cell_type": "markdown",
   "metadata": {},
   "source": [
    "### Aufgabe: Photosynthese"
   ]
  },
  {
   "cell_type": "markdown",
   "metadata": {},
   "source": [
    "**Ihre Aufgaben**\n",
    "\n",
    "(1) Erklären Sie den Prozess der Photosynthese und beschreibe, welche Rolle er für das Ökosystem spielt."
   ]
  },
  {
   "cell_type": "markdown",
   "metadata": {},
   "source": [
    "Bei der Photosynthese absorbieren Pflanzen, Algen und Cyanobakterien mit Hilfe von Chlorophyll Sonnenlicht, das in chemische Energie umgewandelt wird. In einem zweistufigen Prozess – den lichtabhängigen Reaktionen, bei denen Wasser gespalten und Sauerstoff freigesetzt wird, sowie dem lichtunabhängigen Calvin-Zyklus, in dem Kohlendioxid zu Glukose verarbeitet wird – erzeugen diese Organismen die notwendigen organischen Verbindungen. Dadurch liefern sie nicht nur den eigenen Energiebedarf, sondern bilden auch die Grundlage der Nahrungsketten und tragen zur Aufrechterhaltung eines sauerstoffreichen und kohlendioxidarmen Klimas bei."
   ]
  }
 ],
 "metadata": {
  "language_info": {
   "name": "python"
  }
 },
 "nbformat": 4,
 "nbformat_minor": 2
}
