{
 "cells": [
  {
   "metadata": {},
   "cell_type": "markdown",
   "source": "### Aufgabe: Photosynthese",
  },
  {
   "metadata": {},
   "cell_type": "markdown",
   "source": [
    "**Ihre Aufgaben**\n",
    "\n",
    "(1) Erklären Sie den Prozess der Photosynthese und beschreibe, welche Rolle er für das Ökosystem spielt."
   ],
  },
  {
   "metadata": {},
   "cell_type": "markdown",
   "source": "Photosynthese ist ein fundamentaler biochemischer Prozess, der in den Chloroplasten von grünen Pflanzen, Algen und bestimmten Cyanobakterien abläuft. Dabei wird in zwei wesentlichen Phasen vorgegangen:\n\n    Lichtabhängige Reaktionen:\n    Hier absorbiert das Chlorophyll in den Chloroplasten Sonnenlicht, was zur Spaltung von Wasser (H₂O) führt. Dabei entstehen Elektronen, Protonen und molekularer Sauerstoff (O₂), der in die Atmosphäre abgegeben wird.\n    Lichtunabhängiger Calvin-Zyklus:\n    In dieser Phase wird das freigesetzte Kohlendioxid (CO₂) mithilfe der in der ersten Phase gewonnenen Energie fixiert und schrittweise in organische Verbindungen wie Glukose umgewandelt. Diese Glukose dient als primäre Energiequelle und als Ausgangsstoff für den Aufbau weiterer Biomoleküle in der Pflanze.\n\nDie Photosynthese ist nicht nur entscheidend für das Überleben der Pflanzen selbst, sondern bildet auch die Grundlage der gesamten Nahrungsketten. Indem sie atmosphärisches Kohlendioxid bindet und Sauerstoff produziert, spielt sie eine zentrale Rolle in der globalen Klimaregulierung und im Erhalt eines lebensfreundlichen Planeten. Dieser Prozess stellt somit einen der wichtigsten biogeochemischen Kreisläufe dar und sichert die Energie- und Stoffversorgung in nahezu allen Ökosystemen.",
  }
 ],
 "metadata": {
  "kernelspec": {
   "display_name": "Python 3",
   "language": "python",
   "name": "python3"
  },
  "language_info": {
   "codemirror_mode": {
    "name": "ipython",
    "version": 2
   },
   "file_extension": ".py",
   "mimetype": "text/x-python",
   "name": "python",
   "nbconvert_exporter": "python",
   "pygments_lexer": "ipython2",
   "version": "2.7.6"
  }
 },
 "nbformat": 4,
 "nbformat_minor": 5
}
