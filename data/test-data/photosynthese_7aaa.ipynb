{
 "cells": [
  {
   "metadata": {},
   "cell_type": "markdown",
   "source": "### Aufgabe: Photosynthese",
  },
  {
   "metadata": {},
   "cell_type": "markdown",
   "source": [
    "**Ihre Aufgaben**\n",
    "\n",
    "(1) Erklären Sie den Prozess der Photosynthese und beschreibe, welche Rolle er für das Ökosystem spielt."
   ],
  },
  {
   "metadata": {},
   "cell_type": "markdown",
   "source": "Bei der Photosynthese absorbieren Pflanzen, Algen und Cyanobakterien mit Hilfe von Chlorophyll Sonnenlicht, das in chemische Energie umgewandelt wird. In einem zweistufigen Prozess – den lichtabhängigen Reaktionen, bei denen Wasser gespalten und Sauerstoff freigesetzt wird, sowie dem lichtunabhängigen Calvin-Zyklus, in dem Kohlendioxid zu Glukose verarbeitet wird – erzeugen diese Organismen die notwendigen organischen Verbindungen. Dadurch liefern sie nicht nur den eigenen Energiebedarf, sondern bilden auch die Grundlage der Nahrungsketten und tragen zur Aufrechterhaltung eines sauerstoffreichen und kohlendioxidarmen Klimas bei.",
  }
 ],
 "metadata": {
  "kernelspec": {
   "display_name": "Python 3",
   "language": "python",
   "name": "python3"
  },
  "language_info": {
   "codemirror_mode": {
    "name": "ipython",
    "version": 2
   },
   "file_extension": ".py",
   "mimetype": "text/x-python",
   "name": "python",
   "nbconvert_exporter": "python",
   "pygments_lexer": "ipython2",
   "version": "2.7.6"
  }
 },
 "nbformat": 4,
 "nbformat_minor": 5
}
