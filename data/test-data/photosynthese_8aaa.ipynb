{
 "cells": [
  {
   "metadata": {},
   "cell_type": "markdown",
   "source": "### Aufgabe: Photosynthese",
  },
  {
   "metadata": {},
   "cell_type": "markdown",
   "source": [
    "**Ihre Aufgaben**\n",
    "\n",
    "(1) Erklären Sie den Prozess der Photosynthese und beschreibe, welche Rolle er für das Ökosystem spielt."
   ],
  },
  {
   "metadata": {},
   "cell_type": "markdown",
   "source": "Photosynthese ist ein essenzieller biochemischer Prozess, der in den Chloroplasten grüner Pflanzen, Algen und bestimmter Bakterien stattfindet. Mithilfe von Chlorophyll wird in den lichtabhängigen Reaktionen Lichtenergie genutzt, um Wasser (H₂O) zu spalten, wobei Sauerstoff (O₂) freigesetzt wird. Anschließend werden im Calvin-Zyklus Kohlendioxid (CO₂) und die erzeugten Zwischenprodukte zu Glukose umgewandelt. Dieser Prozess liefert den Organismen nicht nur den notwendigen Brennstoff für ihre Lebensprozesse, sondern bildet auch die Basis der Nahrungsketten in nahezu allen terrestrischen und aquatischen Ökosystemen. Gleichzeitig spielt er eine zentrale Rolle bei der Regulierung der atmosphärischen Zusammensetzung, indem er CO₂ bindet und O₂ freisetzt.",
  }
 ],
 "metadata": {
  "kernelspec": {
   "display_name": "Python 3",
   "language": "python",
   "name": "python3"
  },
  "language_info": {
   "codemirror_mode": {
    "name": "ipython",
    "version": 2
   },
   "file_extension": ".py",
   "mimetype": "text/x-python",
   "name": "python",
   "nbconvert_exporter": "python",
   "pygments_lexer": "ipython2",
   "version": "2.7.6"
  }
 },
 "nbformat": 4,
 "nbformat_minor": 5
}
