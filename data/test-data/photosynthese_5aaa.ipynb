{
 "cells": [
  {
   "metadata": {},
   "cell_type": "markdown",
   "source": "### Aufgabe: Photosynthese",
  },
  {
   "metadata": {},
   "cell_type": "markdown",
   "source": [
    "**Ihre Aufgaben**\n",
    "\n",
    "(1) Erklären Sie den Prozess der Photosynthese und beschreibe, welche Rolle er für das Ökosystem spielt."
   ],
  },
  {
   "metadata": {},
   "cell_type": "markdown",
   "source": "Photosynthese ist der Prozess, bei dem grüne Pflanzen, Algen und manche Bakterien Sonnenlicht absorbieren, um Kohlendioxid und Wasser in Glukose (einen Zucker) und Sauerstoff umzuwandeln. Dieser Vorgang liefert nicht nur die Energie für die Pflanze, sondern bildet auch die primäre Energiequelle in Ökosystemen, indem er die Nahrungskette antreibt und den atmosphärischen Sauerstoff erneuert.",
  }
 ],
 "metadata": {
  "kernelspec": {
   "display_name": "Python 3",
   "language": "python",
   "name": "python3"
  },
  "language_info": {
   "codemirror_mode": {
    "name": "ipython",
    "version": 2
   },
   "file_extension": ".py",
   "mimetype": "text/x-python",
   "name": "python",
   "nbconvert_exporter": "python",
   "pygments_lexer": "ipython2",
   "version": "2.7.6"
  }
 },
 "nbformat": 4,
 "nbformat_minor": 5
}
