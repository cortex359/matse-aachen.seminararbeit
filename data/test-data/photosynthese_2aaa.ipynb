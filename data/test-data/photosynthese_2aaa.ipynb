{
 "cells": [
  {
   "metadata": {},
   "cell_type": "markdown",
   "source": "### Aufgabe: Photosynthese",
  },
  {
   "metadata": {},
   "cell_type": "markdown",
   "source": [
    "**Ihre Aufgaben**\n",
    "\n",
    "(1) Erklären Sie den Prozess der Photosynthese und beschreibe, welche Rolle er für das Ökosystem spielt."
   ],
  },
  {
   "metadata": {},
   "cell_type": "markdown",
   "source": "Bei der Photosynthese sollen Pflanzen irgendwie Licht aufnehmen und in Energie umwandeln.",
  }
 ],
 "metadata": {
  "kernelspec": {
   "display_name": "Python 3",
   "language": "python",
   "name": "python3"
  },
  "language_info": {
   "codemirror_mode": {
    "name": "ipython",
    "version": 2
   },
   "file_extension": ".py",
   "mimetype": "text/x-python",
   "name": "python",
   "nbconvert_exporter": "python",
   "pygments_lexer": "ipython2",
   "version": "2.7.6"
  }
 },
 "nbformat": 4,
 "nbformat_minor": 5
}
